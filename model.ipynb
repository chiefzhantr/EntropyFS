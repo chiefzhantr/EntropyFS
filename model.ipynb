{
 "cells": [
  {
   "cell_type": "code",
   "execution_count": 1,
   "metadata": {},
   "outputs": [],
   "source": [
    "import numpy as np\n",
    "import pandas as pd\n",
    "import matplotlib.pyplot as plt\n",
    "import seaborn as sns\n",
    "from sklearn.preprocessing import StandardScaler, MinMaxScaler\n",
    "from sklearn.model_selection import train_test_split\n",
    "from sklearn.metrics import f1_score, accuracy_score"
   ]
  },
  {
   "cell_type": "markdown",
   "metadata": {},
   "source": [
    "PREPROCESSING"
   ]
  },
  {
   "cell_type": "code",
   "execution_count": 11,
   "metadata": {},
   "outputs": [
    {
     "name": "stdout",
     "output_type": "stream",
     "text": [
      "       Age  Gender  Blood Pressure  Cholesterol Level Exercise Habits Smoking  \\\n",
      "0     56.0    Male           153.0              155.0            High     Yes   \n",
      "1     69.0  Female           146.0              286.0            High      No   \n",
      "2     46.0    Male           126.0              216.0             Low      No   \n",
      "3     32.0  Female           122.0              293.0            High     Yes   \n",
      "4     60.0    Male           166.0              242.0             Low     Yes   \n",
      "...    ...     ...             ...                ...             ...     ...   \n",
      "9995  25.0  Female           136.0              243.0          Medium     Yes   \n",
      "9996  38.0    Male           172.0              154.0          Medium      No   \n",
      "9997  73.0    Male           152.0              201.0            High     Yes   \n",
      "9998  23.0    Male           142.0              299.0             Low     Yes   \n",
      "9999  38.0  Female           128.0              193.0          Medium     Yes   \n",
      "\n",
      "     Family Heart Disease Diabetes        BMI High Blood Pressure  ...  \\\n",
      "0                     Yes       No  24.991591                 Yes  ...   \n",
      "1                     Yes      Yes  25.221799                  No  ...   \n",
      "2                      No       No  29.855447                  No  ...   \n",
      "3                     Yes       No  24.130477                 Yes  ...   \n",
      "4                     Yes      Yes  20.486289                 Yes  ...   \n",
      "...                   ...      ...        ...                 ...  ...   \n",
      "9995                   No       No  18.788791                 Yes  ...   \n",
      "9996                   No       No  31.856801                 Yes  ...   \n",
      "9997                   No      Yes  26.899911                  No  ...   \n",
      "9998                   No      Yes  34.964026                 Yes  ...   \n",
      "9999                  Yes      Yes  25.111295                  No  ...   \n",
      "\n",
      "     High LDL Cholesterol Alcohol Consumption Stress Level Sleep Hours  \\\n",
      "0                      No                High       Medium    7.633228   \n",
      "1                      No              Medium         High    8.744034   \n",
      "2                     Yes                 Low          Low    4.440440   \n",
      "3                     Yes                 Low         High    5.249405   \n",
      "4                      No                 Low         High    7.030971   \n",
      "...                   ...                 ...          ...         ...   \n",
      "9995                  Yes              Medium         High    6.834954   \n",
      "9996                  Yes                 NaN         High    8.247784   \n",
      "9997                  Yes                 NaN          Low    4.436762   \n",
      "9998                  Yes              Medium         High    8.526329   \n",
      "9999                  Yes                High       Medium    5.659394   \n",
      "\n",
      "      Sugar Consumption Triglyceride Level  Fasting Blood Sugar  CRP Level  \\\n",
      "0                Medium              342.0                  NaN  12.969246   \n",
      "1                Medium              133.0                157.0   9.355389   \n",
      "2                   Low              393.0                 92.0  12.709873   \n",
      "3                  High              293.0                 94.0  12.509046   \n",
      "4                  High              263.0                154.0  10.381259   \n",
      "...                 ...                ...                  ...        ...   \n",
      "9995             Medium              343.0                133.0   3.588814   \n",
      "9996                Low              377.0                 83.0   2.658267   \n",
      "9997                Low              248.0                 88.0   4.408867   \n",
      "9998             Medium              113.0                153.0   7.215634   \n",
      "9999               High              121.0                149.0  14.387810   \n",
      "\n",
      "      Homocysteine Level  Heart Disease Status  \n",
      "0              12.387250                    No  \n",
      "1              19.298875                    No  \n",
      "2              11.230926                    No  \n",
      "3               5.961958                    No  \n",
      "4               8.153887                    No  \n",
      "...                  ...                   ...  \n",
      "9995           19.132004                   Yes  \n",
      "9996            9.715709                   Yes  \n",
      "9997            9.492429                   Yes  \n",
      "9998           11.873486                   Yes  \n",
      "9999            6.208531                   Yes  \n",
      "\n",
      "[10000 rows x 21 columns]\n"
     ]
    }
   ],
   "source": [
    "df = pd.read_csv('heart_disease.csv')\n",
    "print(df)"
   ]
  },
  {
   "cell_type": "code",
   "execution_count": 16,
   "metadata": {},
   "outputs": [],
   "source": [
    "df.isnull().sum()\n",
    "df.drop(columns=['Alcohol Consumption'], inplace=True)\n",
    "df = df.dropna()"
   ]
  },
  {
   "cell_type": "code",
   "execution_count": 17,
   "metadata": {},
   "outputs": [
    {
     "data": {
      "text/plain": [
       "Age                     0\n",
       "Gender                  0\n",
       "Blood Pressure          0\n",
       "Cholesterol Level       0\n",
       "Exercise Habits         0\n",
       "Smoking                 0\n",
       "Family Heart Disease    0\n",
       "Diabetes                0\n",
       "BMI                     0\n",
       "High Blood Pressure     0\n",
       "Low HDL Cholesterol     0\n",
       "High LDL Cholesterol    0\n",
       "Stress Level            0\n",
       "Sleep Hours             0\n",
       "Sugar Consumption       0\n",
       "Triglyceride Level      0\n",
       "Fasting Blood Sugar     0\n",
       "CRP Level               0\n",
       "Homocysteine Level      0\n",
       "Heart Disease Status    0\n",
       "dtype: int64"
      ]
     },
     "execution_count": 17,
     "metadata": {},
     "output_type": "execute_result"
    }
   ],
   "source": [
    "df.isnull().sum()"
   ]
  }
 ],
 "metadata": {
  "kernelspec": {
   "display_name": "Python 3",
   "language": "python",
   "name": "python3"
  },
  "language_info": {
   "codemirror_mode": {
    "name": "ipython",
    "version": 3
   },
   "file_extension": ".py",
   "mimetype": "text/x-python",
   "name": "python",
   "nbconvert_exporter": "python",
   "pygments_lexer": "ipython3",
   "version": "3.10.2"
  }
 },
 "nbformat": 4,
 "nbformat_minor": 2
}
